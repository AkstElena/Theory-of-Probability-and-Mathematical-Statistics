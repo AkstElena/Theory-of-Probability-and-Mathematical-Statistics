{
 "cells": [
  {
   "cell_type": "code",
   "execution_count": 2,
   "metadata": {},
   "outputs": [],
   "source": [
    "import numpy as np\n",
    "from scipy import stats"
   ]
  },
  {
   "cell_type": "markdown",
   "metadata": {},
   "source": [
    "Задача 1\n",
    "\n",
    "На препарате А положительный результат лечения наблюдается у 17 из 32 пациентов, а\n",
    "на препарате В у 9 из 22. Построить 95% доверительный интервал для разности долей.\n",
    "Обнаружены ли статистически значимые различия?"
   ]
  },
  {
   "cell_type": "code",
   "execution_count": 3,
   "metadata": {},
   "outputs": [],
   "source": [
    "m1=17\n",
    "m2=9\n",
    "n1=32\n",
    "n2=22"
   ]
  },
  {
   "cell_type": "code",
   "execution_count": 5,
   "metadata": {},
   "outputs": [
    {
     "data": {
      "text/plain": [
       "0.53125"
      ]
     },
     "execution_count": 5,
     "metadata": {},
     "output_type": "execute_result"
    }
   ],
   "source": [
    "p1=m1/n1\n",
    "p1"
   ]
  },
  {
   "cell_type": "code",
   "execution_count": 6,
   "metadata": {},
   "outputs": [
    {
     "data": {
      "text/plain": [
       "0.4090909090909091"
      ]
     },
     "execution_count": 6,
     "metadata": {},
     "output_type": "execute_result"
    }
   ],
   "source": [
    "p2=m2/n2\n",
    "p2"
   ]
  },
  {
   "cell_type": "code",
   "execution_count": 9,
   "metadata": {},
   "outputs": [
    {
     "data": {
      "text/plain": [
       "0.48148148148148145"
      ]
     },
     "execution_count": 9,
     "metadata": {},
     "output_type": "execute_result"
    }
   ],
   "source": [
    "p=(m1+m2)/(n1+n2)\n",
    "p"
   ]
  },
  {
   "cell_type": "code",
   "execution_count": 10,
   "metadata": {},
   "outputs": [
    {
     "data": {
      "text/plain": [
       "0.12215909090909088"
      ]
     },
     "execution_count": 10,
     "metadata": {},
     "output_type": "execute_result"
    }
   ],
   "source": [
    "delta = p1-p2\n",
    "delta"
   ]
  },
  {
   "cell_type": "code",
   "execution_count": 15,
   "metadata": {},
   "outputs": [
    {
     "data": {
      "text/plain": [
       "0.13838291675576017"
      ]
     },
     "execution_count": 15,
     "metadata": {},
     "output_type": "execute_result"
    }
   ],
   "source": [
    "SE=np.sqrt((p*(1-p))*(1/n1+1/n2))\n",
    "SE"
   ]
  },
  {
   "cell_type": "code",
   "execution_count": 16,
   "metadata": {},
   "outputs": [
    {
     "data": {
      "text/plain": [
       "1.959963984540054"
      ]
     },
     "execution_count": 16,
     "metadata": {},
     "output_type": "execute_result"
    }
   ],
   "source": [
    "z_95 = stats.norm.ppf(0.975)\n",
    "z_95"
   ]
  },
  {
   "cell_type": "code",
   "execution_count": 19,
   "metadata": {},
   "outputs": [
    {
     "name": "stdout",
     "output_type": "stream",
     "text": [
      "-0.14906644200780345 0.3933846238259852\n"
     ]
    }
   ],
   "source": [
    "print(delta-SE*z_95,delta+SE*z_95)"
   ]
  },
  {
   "cell_type": "markdown",
   "metadata": {},
   "source": [
    "Задача 2\n",
    "\n",
    "Решить задачу 1 через тестирование гипотезы.\n",
    "\n",
    "На препарате А положительный результат лечения наблюдается у 17 из 32 пациентов, а\n",
    "на препарате В у 9 из 22. Являются ли различия статистически значимые между долями\n",
    "пациентов с положительным эффектом в этих двух группах.\n",
    "Уровень статистической значимости принять за 0.05"
   ]
  },
  {
   "cell_type": "code",
   "execution_count": 20,
   "metadata": {},
   "outputs": [
    {
     "data": {
      "text/plain": [
       "0.6056153472305655"
      ]
     },
     "execution_count": 20,
     "metadata": {},
     "output_type": "execute_result"
    }
   ],
   "source": [
    "Z_nabl = (abs(delta)- (1/n1+1/n2)/2)/SE\n",
    "Z_nabl"
   ]
  },
  {
   "cell_type": "code",
   "execution_count": 21,
   "metadata": {},
   "outputs": [
    {
     "data": {
      "text/plain": [
       "1.959963984540054"
      ]
     },
     "execution_count": 21,
     "metadata": {},
     "output_type": "execute_result"
    }
   ],
   "source": [
    "z_95 = stats.norm.ppf(0.975)\n",
    "z_95"
   ]
  },
  {
   "cell_type": "markdown",
   "metadata": {},
   "source": [
    "Таким образом, статистических различий нет. То есть оба препарата влияют одинаково"
   ]
  },
  {
   "cell_type": "markdown",
   "metadata": {},
   "source": [
    "Задача 3\n",
    "Было проведено исследование научных статей на количество авторов в разные годы.\n",
    "Построить 90% и 95% интервалы"
   ]
  },
  {
   "cell_type": "code",
   "execution_count": 22,
   "metadata": {},
   "outputs": [
    {
     "name": "stdout",
     "output_type": "stream",
     "text": [
      "1.8114366123376808 2.188563387662319\n"
     ]
    }
   ],
   "source": [
    "x = 2\n",
    "n=151\n",
    "s = 1.4\n",
    "se = s /n **0.5\n",
    "t_90 = stats.t.ppf(0.95, n-1)\n",
    "print(x-t_90*se,x+t_90*se,)"
   ]
  },
  {
   "cell_type": "code",
   "execution_count": 23,
   "metadata": {},
   "outputs": [
    {
     "name": "stdout",
     "output_type": "stream",
     "text": [
      "1.774884346453975 2.225115653546025\n"
     ]
    }
   ],
   "source": [
    "x = 2\n",
    "n=151\n",
    "s = 1.4\n",
    "se = s /n **0.5\n",
    "t_90 = stats.t.ppf(0.975, n-1)\n",
    "print(x-t_90*se,x+t_90*se,)"
   ]
  },
  {
   "cell_type": "code",
   "execution_count": 26,
   "metadata": {},
   "outputs": [
    {
     "data": {
      "text/plain": [
       "(1.8114366123376808, 2.188563387662319)"
      ]
     },
     "execution_count": 26,
     "metadata": {},
     "output_type": "execute_result"
    }
   ],
   "source": [
    "from statsmodels.stats.weightstats import _tconfint_generic as t_stat\n",
    "conf_interval = t_stat(x, se, n - 1, 0.1, 'two-sided')\n",
    "conf_interval"
   ]
  },
  {
   "cell_type": "code",
   "execution_count": 28,
   "metadata": {},
   "outputs": [
    {
     "data": {
      "text/plain": [
       "(1.774884346453975, 2.225115653546025)"
      ]
     },
     "execution_count": 28,
     "metadata": {},
     "output_type": "execute_result"
    }
   ],
   "source": [
    "conf_interval = t_stat(x, se, n - 1, 0.05, 'two-sided')\n",
    "conf_interval"
   ]
  },
  {
   "cell_type": "markdown",
   "metadata": {},
   "source": [
    "Задача 4\n",
    "С помощью 90% доверительного интервала оценить средний вес нормально\n",
    "распределенной популяции, если дисперсия генеральной совокупности 3.6, а среднее\n",
    "арифметичекое по выборке объемом 100 получилось равным 71.2."
   ]
  },
  {
   "cell_type": "code",
   "execution_count": 30,
   "metadata": {},
   "outputs": [
    {
     "name": "stdout",
     "output_type": "stream",
     "text": [
      "70.88791096727466 71.51208903272534\n"
     ]
    }
   ],
   "source": [
    "x = 71.2\n",
    "n = 100\n",
    "D = 3.6\n",
    "se = (D/n) ** 0.5\n",
    "z_90 = stats.norm.ppf(0.95)\n",
    "print(x - z_90 * se, x + z_90 * se)"
   ]
  },
  {
   "cell_type": "markdown",
   "metadata": {},
   "source": [
    "Задача 5\n",
    "\n",
    "Найдите 95% доверительные интервалы для долей больных, которые не чувствовали боли\n",
    "при включенном и выключенном приборе. Можно ли по этим интервалам оценить\n",
    "статистическую значимость различий?"
   ]
  },
  {
   "cell_type": "code",
   "execution_count": 36,
   "metadata": {},
   "outputs": [
    {
     "name": "stdout",
     "output_type": "stream",
     "text": [
      "0.6568644685026275 0.9431355314973726\n"
     ]
    }
   ],
   "source": [
    "m1 = 24\n",
    "n1 = 30\n",
    "p1 = m1 / n1\n",
    "z_95 = stats.norm.ppf(0.975)\n",
    "se = (p1 * (1 -p1) / n1) ** 0.5\n",
    "print(p1 - z_95 * se, p1 + z_95 * se)"
   ]
  },
  {
   "cell_type": "markdown",
   "metadata": {},
   "source": [
    "Так как интервалы не пересекаются то сттистическая значимость есть. Они отличаются"
   ]
  },
  {
   "cell_type": "markdown",
   "metadata": {},
   "source": [
    "Задача 6\n",
    "Даны две группы студентов. В каждой по 21 человеку. Первая группа прошла недельную\n",
    "подготовку для сдачи тестов, другая группа приступила к тестам без подготовки.\n",
    "В 1й группе среднее время прохождения теста целиком требует 1.8 ч, во второй 2.3 ч.\n",
    "Постройте 95% интервал для разности средних арифметических, если известно, что\n",
    "стандартное отклонение 1 группы составило 0.4 ч, во 2й группе -0.6ч"
   ]
  },
  {
   "cell_type": "code",
   "execution_count": 3,
   "metadata": {},
   "outputs": [
    {
     "name": "stdout",
     "output_type": "stream",
     "text": [
      "-0.8180347215208597 -0.18196527847913985\n"
     ]
    }
   ],
   "source": [
    "n1 = n2 = 21\n",
    "x1 = 1.8\n",
    "x2 = 2.3\n",
    "d1 = 0.4**2\n",
    "d2 = 0.6**2\n",
    "D = (d1+d2)/2\n",
    "delta = x1-x2\n",
    "se = (D/n1 + D/n2) ** 0.5\n",
    "z_95 = stats.t.ppf(0.975, n1+n2-2)\n",
    "print(delta - z_95 * se, delta + z_95 * se)\n"
   ]
  },
  {
   "cell_type": "markdown",
   "metadata": {},
   "source": [
    "Недельная подготовка, повлияла "
   ]
  }
 ],
 "metadata": {
  "kernelspec": {
   "display_name": "Python 3",
   "language": "python",
   "name": "python3"
  },
  "language_info": {
   "codemirror_mode": {
    "name": "ipython",
    "version": 3
   },
   "file_extension": ".py",
   "mimetype": "text/x-python",
   "name": "python",
   "nbconvert_exporter": "python",
   "pygments_lexer": "ipython3",
   "version": "3.11.3"
  }
 },
 "nbformat": 4,
 "nbformat_minor": 2
}

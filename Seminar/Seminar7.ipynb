{
 "cells": [
  {
   "cell_type": "code",
   "execution_count": 1,
   "metadata": {},
   "outputs": [],
   "source": [
    "import numpy as np\n",
    "from scipy import stats"
   ]
  },
  {
   "cell_type": "markdown",
   "metadata": {},
   "source": [
    "Средние расходы на обследование одного больного до и после ознакомления с расходами коллег\n",
    "\n",
    "X= np.array([20,17, 14, 42, 50, 62, 8, 49, 81, 54, 48, 55, 56])\n",
    "\n",
    "Y= np.array ([20, 26, 1, 24, 1, 47, 15, 7, 65, 9, 21, 36, 30])"
   ]
  },
  {
   "cell_type": "code",
   "execution_count": 16,
   "metadata": {},
   "outputs": [],
   "source": [
    "X= np.array([20,17, 14, 42, 50, 62, 8, 49, 81, 54, 48, 55, 56])\n",
    "Y= np.array ([20, 26, 1, 24, 1, 47, 15, 7, 65, 9, 21, 36, 30])"
   ]
  },
  {
   "cell_type": "code",
   "execution_count": 17,
   "metadata": {},
   "outputs": [
    {
     "data": {
      "text/plain": [
       "WilcoxonResult(statistic=3.0, pvalue=0.004741768038406971)"
      ]
     },
     "execution_count": 17,
     "metadata": {},
     "output_type": "execute_result"
    }
   ],
   "source": [
    "stats.wilcoxon(X,Y)"
   ]
  },
  {
   "cell_type": "markdown",
   "metadata": {},
   "source": [
    "Расходы на обследование после ознакомления отличаются, так как 0.4% < 5%"
   ]
  },
  {
   "cell_type": "markdown",
   "metadata": {},
   "source": [
    "Средние расходы на лечение одного больного до и после ознакомления с расходами коллег\n",
    "\n",
    "X= np.array([ 32, 41, 51, 29, 76, 47, 60, 58, 40, 64, 73, 66, 73])\n",
    "\n",
    "Y= np.array ([42, 90, 71, 47, 56, 43, 137, 63, 28, 60, 87, 69, 50])\n",
    "\n",
    "Произошли ли изменения на расходы и лечение?"
   ]
  },
  {
   "cell_type": "code",
   "execution_count": 22,
   "metadata": {},
   "outputs": [],
   "source": [
    "X= np.array([ 32, 41, 51, 29, 76, 47, 60, 58, 40, 64, 73, 66, 73])\n",
    "Y= np.array ([42, 90, 71, 47, 56, 43, 137, 63, 28, 60, 87, 69, 50])"
   ]
  },
  {
   "cell_type": "code",
   "execution_count": 23,
   "metadata": {},
   "outputs": [
    {
     "data": {
      "text/plain": [
       "WilcoxonResult(statistic=31.5, pvalue=0.339599609375)"
      ]
     },
     "execution_count": 23,
     "metadata": {},
     "output_type": "execute_result"
    }
   ],
   "source": [
    "stats.wilcoxon(X,Y)"
   ]
  },
  {
   "cell_type": "markdown",
   "metadata": {},
   "source": [
    "Отличия на расходы на лечение после ознакомления статистически не значимы, так как 34% > 5%. То есть изменений не произошол"
   ]
  },
  {
   "cell_type": "markdown",
   "metadata": {},
   "source": [
    "При исследовании препарата для снижения\n",
    "кровяного давления у больных 3 раза измерялся\n",
    "сердечный выброс. Менялся ли сердечный выброс?\n",
    "Найти критерий вручную, проверьте значение\n",
    "функцией и интерпретируйте результат с\n",
    "использованием p-value\n",
    "\n",
    "A= np.array([3.5, 3.3, 4.9, 3.6])\n",
    "\n",
    "B= np.array([8.6, 5.4, 8.8, 5.6])\n",
    "\n",
    "C=np.array([5.1, 8.6, 7.7, 5.0])"
   ]
  },
  {
   "cell_type": "code",
   "execution_count": 24,
   "metadata": {},
   "outputs": [],
   "source": [
    "A= np.array([3.5, 3.3, 4.9, 3.6])\n",
    "B= np.array([8.6, 5.4, 8.8, 5.6])\n",
    "C=np.array([5.1, 8.6, 7.7, 5.0])"
   ]
  },
  {
   "cell_type": "code",
   "execution_count": 25,
   "metadata": {},
   "outputs": [
    {
     "data": {
      "text/plain": [
       "FriedmanchisquareResult(statistic=6.5, pvalue=0.03877420783172202)"
      ]
     },
     "execution_count": 25,
     "metadata": {},
     "output_type": "execute_result"
    }
   ],
   "source": [
    "stats.friedmanchisquare(A,B,C)"
   ]
  },
  {
   "cell_type": "markdown",
   "metadata": {},
   "source": [
    "Так как 3,4% < 5% то статистически отличия есть, препарат влияет на сердечный выыброс"
   ]
  },
  {
   "cell_type": "markdown",
   "metadata": {},
   "source": [
    "Даны значения проницаемости сосудов сетчатки gr1 (здоровые пациенты), gr 2 ( поражение в области центральной\n",
    "ямки), gr3 (в области центральной ямки и на периферии).\n",
    "Сравнить данные, относящиеся к разным видам поражения.\n",
    "\n",
    "gr1 =([0.5, 0.7, 1, 1.2, 1.4])\n",
    "\n",
    "gr2 = ([1.3, 1.45, 1.6, 1.7, 1.8])\n",
    "\n",
    "gr3 = ([6.2, 12.6, 13.2, 14.1, 14.2])\n"
   ]
  },
  {
   "cell_type": "code",
   "execution_count": 26,
   "metadata": {},
   "outputs": [],
   "source": [
    "gr1 =np.array([0.5, 0.7, 1, 1.2, 1.4])\n",
    "gr2 = np.array([1.3, 1.45, 1.6, 1.7, 1.8])\n",
    "gr3 = np.array ([6.2, 12.6, 13.2, 14.1, 14.2])"
   ]
  },
  {
   "cell_type": "code",
   "execution_count": 30,
   "metadata": {},
   "outputs": [
    {
     "data": {
      "text/plain": [
       "KruskalResult(statistic=12.02000000000001, pvalue=0.002454088180413905)"
      ]
     },
     "execution_count": 30,
     "metadata": {},
     "output_type": "execute_result"
    }
   ],
   "source": [
    "stats.kruskal(gr1,gr2,gr3)"
   ]
  },
  {
   "cell_type": "markdown",
   "metadata": {},
   "source": [
    "Так как 0.2% < 5% то статистически отличия есть. Принимаем альтернативную гипотезу"
   ]
  }
 ],
 "metadata": {
  "kernelspec": {
   "display_name": "Python 3",
   "language": "python",
   "name": "python3"
  },
  "language_info": {
   "codemirror_mode": {
    "name": "ipython",
    "version": 3
   },
   "file_extension": ".py",
   "mimetype": "text/x-python",
   "name": "python",
   "nbconvert_exporter": "python",
   "pygments_lexer": "ipython3",
   "version": "3.11.3"
  }
 },
 "nbformat": 4,
 "nbformat_minor": 2
}

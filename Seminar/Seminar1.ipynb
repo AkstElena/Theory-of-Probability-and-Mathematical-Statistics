{
 "cells": [
  {
   "cell_type": "markdown",
   "metadata": {},
   "source": [
    "Задача 1\n",
    "В партии 10 деталей. Среди них 3 бракованные. Какова вероятность, что среди\n",
    "5 ,взятых на удачу, 4 хорошие детали?\n",
    "Благоприятные исходы:\n",
    "combinations(7,4) из 7 хороших 4 выпали\n",
    "combinations(3,1) из 3 бракованных 1 выпала"
   ]
  },
  {
   "cell_type": "code",
   "execution_count": 6,
   "metadata": {},
   "outputs": [
    {
     "data": {
      "text/plain": [
       "0.4166666666666667"
      ]
     },
     "execution_count": 6,
     "metadata": {},
     "output_type": "execute_result"
    }
   ],
   "source": [
    "from math import factorial\n",
    "def combinations(n, k):\n",
    "  return factorial(n)/(factorial(k)*factorial(n-k))\n",
    "\n",
    "total = combinations(10,5)\n",
    "good = combinations(7,4) * combinations(3,1)\n",
    "probability = good/total\n",
    "probability\n"
   ]
  },
  {
   "cell_type": "markdown",
   "metadata": {},
   "source": [
    "Задача 2\n",
    "Разработали спам-фильтр на основании часто встречающихся фраз. 70% всех писем –это\n",
    "спам. В 10 % писем со спамом встречается фраза: «вся правда о» и в 0.5% она встречается\n",
    "в хороших письмах. Какова вероятность, что пришедшее на почту письмо является спамом,\n",
    "если в нем есть данная фраза?\n",
    "P(B/A) = P(A/B) *P (B) / P(A)\n",
    "\n",
    "В - письмо является спамом\n",
    "А - встречается фраза\n",
    "P(A/B) - встречается фраза, если спам (то есть это как раз 10% , то есть условная вероятность)\n",
    "P(B) - вероятность что спам (0,7)\n",
    "P(A) - вероятность фразы (две разные групп 0,7*0,1 и 0,3*0,05)\n",
    "\n"
   ]
  },
  {
   "cell_type": "code",
   "execution_count": 8,
   "metadata": {},
   "outputs": [
    {
     "data": {
      "text/plain": [
       "0.979020979020979"
      ]
     },
     "execution_count": 8,
     "metadata": {},
     "output_type": "execute_result"
    }
   ],
   "source": [
    "P_AB = 0.1\n",
    "P_B = 0.7\n",
    "P_A = 0.7*0.1 + 0.3*0.005\n",
    "P_BA = P_AB*P_B / P_A\n",
    "P_BA"
   ]
  },
  {
   "cell_type": "markdown",
   "metadata": {},
   "source": [
    "Задача 3\n",
    "В ящике находится 10 красных, 5 черных, 5 зеленых шаров. Наудачу вынимают 6 шаров.\n",
    "Какова вероятность, что вынуты 3 красных, 2 черных, 1 зеленый?\n",
    "Вероятность красных 10/20 = 0,5\n",
    "Вероятность черных 5/20 = 0,25\n",
    "Вероятность зеленых 5/20 = 0,25\n",
    "Работаем с сочетаниями\n",
    "Всего сочетаний factorial(20)/(factorial(6)*factorial(20-6))\n"
   ]
  },
  {
   "cell_type": "code",
   "execution_count": 9,
   "metadata": {},
   "outputs": [
    {
     "data": {
      "text/plain": [
       "0.15479876160990713"
      ]
     },
     "execution_count": 9,
     "metadata": {},
     "output_type": "execute_result"
    }
   ],
   "source": [
    "def combinations(n, k):\n",
    "  return factorial(n)/(factorial(k)*factorial(n-k))\n",
    "\n",
    "total = combinations(20,6)\n",
    "good = combinations(10,3) * combinations(5,2)* combinations(5,1)\n",
    "probability = good/total\n",
    "probability"
   ]
  },
  {
   "cell_type": "markdown",
   "metadata": {},
   "source": [
    "Задача 4\n",
    "На 5 одинаковых карточках написаны буквы Ч, А, Й ,К, И\n",
    "Какова вероятность, что получится слова ЧАЙКИ\n",
    "Работаем с перестановкой\n",
    "Благоприятный подход только один"
   ]
  },
  {
   "cell_type": "code",
   "execution_count": 11,
   "metadata": {},
   "outputs": [
    {
     "data": {
      "text/plain": [
       "0.008333333333333333"
      ]
     },
     "execution_count": 11,
     "metadata": {},
     "output_type": "execute_result"
    }
   ],
   "source": [
    "total = factorial(5)\n",
    "good = 1\n",
    "probability = good/total\n",
    "probability\n"
   ]
  },
  {
   "cell_type": "markdown",
   "metadata": {},
   "source": [
    "Задача 6\n",
    "Какое количество семизначных номеров можно придумать, если в качестве первой\n",
    "цифры не может быть 0,1,7\n",
    "Всего цифр 10, но можем использовать только 7 для первой цифры, для остальных все 10\n",
    "Решаем сочетанием по каждому разряду\n",
    "Так как результат сочетания 1, то сочетание = п"
   ]
  },
  {
   "cell_type": "code",
   "execution_count": 16,
   "metadata": {},
   "outputs": [
    {
     "data": {
      "text/plain": [
       "7000000"
      ]
     },
     "execution_count": 16,
     "metadata": {},
     "output_type": "execute_result"
    }
   ],
   "source": [
    "# def combinations(n, k):\n",
    "#   return factorial(n)/(factorial(k)*factorial(n-k))\n",
    "# probability = combinations(7,1)*combinations(10,1)*combinations(10,1)*combinations(10,1)*combinations(10,1)*combinations(10,1)*combinations(10,1)\n",
    "probability = 7*10*10*10*10*10*10\n",
    "probability"
   ]
  },
  {
   "cell_type": "markdown",
   "metadata": {},
   "source": [
    "Задача 5\n",
    "На 5 одинаковых карточках написаны буквы Ч, А, Й ,К, А.\n",
    "Какова вероятность, что получится слова ЧАЙКА\n",
    "Решаем перестановкой с небольшим видоизменением\n",
    "Pn = n! / (k1! *.... * Km!) где m - количество разных элементов"
   ]
  },
  {
   "cell_type": "code",
   "execution_count": 17,
   "metadata": {},
   "outputs": [
    {
     "data": {
      "text/plain": [
       "0.016666666666666666"
      ]
     },
     "execution_count": 17,
     "metadata": {},
     "output_type": "execute_result"
    }
   ],
   "source": [
    "total = factorial(5)\n",
    "good = 2\n",
    "probability = good/total\n",
    "probability"
   ]
  },
  {
   "cell_type": "code",
   "execution_count": 20,
   "metadata": {},
   "outputs": [
    {
     "data": {
      "text/plain": [
       "0.016666666666666666"
      ]
     },
     "execution_count": 20,
     "metadata": {},
     "output_type": "execute_result"
    }
   ],
   "source": [
    "total = factorial(5) / (factorial(1)* factorial(1)* factorial(1)* factorial(2))\n",
    "good = 1\n",
    "probability = good/total\n",
    "probability"
   ]
  }
 ],
 "metadata": {
  "kernelspec": {
   "display_name": "Python 3",
   "language": "python",
   "name": "python3"
  },
  "language_info": {
   "codemirror_mode": {
    "name": "ipython",
    "version": 3
   },
   "file_extension": ".py",
   "mimetype": "text/x-python",
   "name": "python",
   "nbconvert_exporter": "python",
   "pygments_lexer": "ipython3",
   "version": "3.11.3"
  }
 },
 "nbformat": 4,
 "nbformat_minor": 2
}

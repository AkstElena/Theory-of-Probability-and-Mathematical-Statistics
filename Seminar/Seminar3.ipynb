{
 "cells": [
  {
   "cell_type": "markdown",
   "metadata": {},
   "source": [
    "Найти среднее арифметическое для выборки:\n",
    "77, 79, 67, 95, 87, 91, 98, 100, 104, 105\n",
    "Найти медиану\n",
    "Найти интерквартильное расстояние."
   ]
  },
  {
   "cell_type": "code",
   "execution_count": 9,
   "metadata": {},
   "outputs": [
    {
     "data": {
      "text/plain": [
       "90.3"
      ]
     },
     "execution_count": 9,
     "metadata": {},
     "output_type": "execute_result"
    }
   ],
   "source": [
    "import numpy as np\n",
    "x=np.array([77, 79, 67, 95, 87, 91, 98, 100, 104, 105])\n",
    "a=np.mean(x) # среднее значение\n",
    "a\n"
   ]
  },
  {
   "cell_type": "code",
   "execution_count": 15,
   "metadata": {},
   "outputs": [
    {
     "data": {
      "text/plain": [
       "93.0"
      ]
     },
     "execution_count": 15,
     "metadata": {},
     "output_type": "execute_result"
    }
   ],
   "source": [
    "m = np.median(x) # медиана\n",
    "m \n"
   ]
  },
  {
   "cell_type": "code",
   "execution_count": 16,
   "metadata": {},
   "outputs": [
    {
     "data": {
      "text/plain": [
       "2.5"
      ]
     },
     "execution_count": 16,
     "metadata": {},
     "output_type": "execute_result"
    }
   ],
   "source": [
    "n=len(x)\n",
    "k=25\n",
    "j=n*k/100\n",
    "j\n"
   ]
  },
  {
   "cell_type": "code",
   "execution_count": 17,
   "metadata": {},
   "outputs": [
    {
     "data": {
      "text/plain": [
       "79.0"
      ]
     },
     "execution_count": 17,
     "metadata": {},
     "output_type": "execute_result"
    }
   ],
   "source": [
    "q_1 = np.percentile(x,25, method = 'hazen') # 25 процентиль или первый квартиль\n",
    "q_1"
   ]
  },
  {
   "cell_type": "code",
   "execution_count": 18,
   "metadata": {},
   "outputs": [
    {
     "data": {
      "text/plain": [
       "100.0"
      ]
     },
     "execution_count": 18,
     "metadata": {},
     "output_type": "execute_result"
    }
   ],
   "source": [
    "q_3 = np.percentile(x,75, method = 'hazen') # 75 процентиль или третий квартиль\n",
    "q_3"
   ]
  },
  {
   "cell_type": "code",
   "execution_count": 19,
   "metadata": {},
   "outputs": [
    {
     "data": {
      "text/plain": [
       "21.0"
      ]
     },
     "execution_count": 19,
     "metadata": {},
     "output_type": "execute_result"
    }
   ],
   "source": [
    "q_3-q_1 # интерквартильное расстояние"
   ]
  },
  {
   "cell_type": "code",
   "execution_count": 22,
   "metadata": {},
   "outputs": [
    {
     "data": {
      "image/png": "[encoded data removed]",
      "text/plain": [
       "<Figure size 500x500 with 1 Axes>"
      ]
     },
     "metadata": {},
     "output_type": "display_data"
    }
   ],
   "source": [
    "from matplotlib import pyplot as plt\n",
    "import seaborn as sns\n",
    "plt.figure (figsize = (5,5))\n",
    "sns.boxplot(data=x)\n",
    "plt.show()"
   ]
  },
  {
   "cell_type": "markdown",
   "metadata": {},
   "source": [
    "Задача2: Партия деталей изготовлена тремя рабочими, причем первый изготовил 35%\n",
    "всех деталей, второй – 40% всех деталей, третий – всю остальную продукцию. Брак в их\n",
    "продукции составляет: у первого -2%, у второго - 3%, у третьего – 4%. Случайно\n",
    "выбранная для контроля деталь оказалась бракованной. Найти вероятность того, что она\n",
    "изготовлена третьим рабочим."
   ]
  },
  {
   "cell_type": "markdown",
   "metadata": {},
   "source": [
    "Формула Байеса\n",
    "\n",
    "P(B/A) = P(A/B) * P(B)/P(A)\n",
    "\n",
    "B - вероятность того, что изготовлена 3им рабочим\n",
    "\n",
    "A -вероятность брака"
   ]
  },
  {
   "cell_type": "code",
   "execution_count": 27,
   "metadata": {},
   "outputs": [
    {
     "data": {
      "text/plain": [
       "0.3448275862068966"
      ]
     },
     "execution_count": 27,
     "metadata": {},
     "output_type": "execute_result"
    }
   ],
   "source": [
    "P_A = 0.35*0.02+0.4*0.03+(1-0.35-0.4)*0.04\n",
    "P_AB =0.04\n",
    "P_B=1-0.35-0.4\n",
    "P_BA = P_AB*P_B/P_A\n",
    "P_BA "
   ]
  },
  {
   "cell_type": "markdown",
   "metadata": {},
   "source": [
    "Задача 3: В ящике 15 шаров, из которых 5 голубыx и 10 красных. Из ящика\n",
    "последовательно вынимают 2 шара; первый шар в ящик не возвращают. Найти\n",
    "вероятность, что первый вытащенный шар - красный , а второй – голубой."
   ]
  },
  {
   "cell_type": "code",
   "execution_count": 28,
   "metadata": {},
   "outputs": [
    {
     "data": {
      "text/plain": [
       "0.23809523809523808"
      ]
     },
     "execution_count": 28,
     "metadata": {},
     "output_type": "execute_result"
    }
   ],
   "source": [
    "P = 10/15*5/14\n",
    "P\n"
   ]
  },
  {
   "cell_type": "markdown",
   "metadata": {},
   "source": [
    "Задача 4.Известно, что в принятой для сборки партии из 1000 деталей имеются 4\n",
    "дефектных. Найдите вероятность, что среди 50 случайно взятых деталей нет дефектных."
   ]
  },
  {
   "cell_type": "code",
   "execution_count": 35,
   "metadata": {},
   "outputs": [
    {
     "data": {
      "text/plain": [
       "0.8187477311542807"
      ]
     },
     "execution_count": 35,
     "metadata": {},
     "output_type": "execute_result"
    }
   ],
   "source": [
    "from math import factorial\n",
    "def combinations(n, k):\n",
    "  return int(factorial(n)/(factorial(k)*factorial(n-k)))\n",
    "\n",
    "n = 50\n",
    "k = 0\n",
    "p = 4/1000\n",
    "l = p * n\n",
    "P = l ** k / factorial(k) * 2.718 ** (-l)  # Пуассон\n",
    "P"
   ]
  },
  {
   "cell_type": "code",
   "execution_count": 36,
   "metadata": {},
   "outputs": [
    {
     "data": {
      "text/plain": [
       "0.8184024506760997"
      ]
     },
     "execution_count": 36,
     "metadata": {},
     "output_type": "execute_result"
    }
   ],
   "source": [
    "P = combinations(n,k) * p ** k * (1-p)**(n-k) # Бернулли\n",
    "P"
   ]
  }
 ],
 "metadata": {
  "kernelspec": {
   "display_name": "Python 3",
   "language": "python",
   "name": "python3"
  },
  "language_info": {
   "codemirror_mode": {
    "name": "ipython",
    "version": 3
   },
   "file_extension": ".py",
   "mimetype": "text/x-python",
   "name": "python",
   "nbconvert_exporter": "python",
   "pygments_lexer": "ipython3",
   "version": "3.11.3"
  }
 },
 "nbformat": 4,
 "nbformat_minor": 2
}

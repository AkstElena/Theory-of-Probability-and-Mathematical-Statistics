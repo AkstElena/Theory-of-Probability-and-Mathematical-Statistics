{
 "cells": [
  {
   "cell_type": "code",
   "execution_count": 6,
   "metadata": {},
   "outputs": [],
   "source": [
    "from math import factorial\n",
    "def combinations(n, k):\n",
    "  return factorial(n)/(factorial(k)*factorial(n-k))\n"
   ]
  },
  {
   "cell_type": "markdown",
   "metadata": {},
   "source": [
    "### Задача 1\n",
    "\n",
    "Найдите математическое ожидание случайной величины X, распределенной\n",
    "\n",
    "по биномиальному закону с параметрами n =100, р=0.3.\n",
    "М = n*p"
   ]
  },
  {
   "cell_type": "code",
   "execution_count": 7,
   "metadata": {},
   "outputs": [
    {
     "data": {
      "text/plain": [
       "30.0"
      ]
     },
     "execution_count": 7,
     "metadata": {},
     "output_type": "execute_result"
    }
   ],
   "source": [
    "M = 100*0.3\n",
    "M"
   ]
  },
  {
   "cell_type": "markdown",
   "metadata": {},
   "source": [
    "### Задача 2\n",
    "\n",
    "Найти ско СВ Х, распределенной по биномиальному закону с параметрами n=50, p=0.6\n",
    "\n",
    "G = квадартный корень из Дисперсии (n*p*q)"
   ]
  },
  {
   "cell_type": "code",
   "execution_count": 9,
   "metadata": {},
   "outputs": [
    {
     "data": {
      "text/plain": [
       "3.4641016151377544"
      ]
     },
     "execution_count": 9,
     "metadata": {},
     "output_type": "execute_result"
    }
   ],
   "source": [
    "G = (50*0.6*(1-0.6) )** 0.5\n",
    "G"
   ]
  },
  {
   "cell_type": "markdown",
   "metadata": {},
   "source": [
    "### Задача 3\n",
    "\n",
    "Вероятность события А в каждом независимом испытании 0.0015. Какова вероятность\n",
    "того, что при 2000 испытаниях событие А появится 3 раза.\n",
    "l = n*p  - какое количество раз произойдет на 2000 испытаний - интенсивность"
   ]
  },
  {
   "cell_type": "code",
   "execution_count": 4,
   "metadata": {},
   "outputs": [
    {
     "data": {
      "text/plain": [
       "0.22411150732949875"
      ]
     },
     "execution_count": 4,
     "metadata": {},
     "output_type": "execute_result"
    }
   ],
   "source": [
    "n = 2000\n",
    "p = 0.0015\n",
    "k = 3\n",
    "l = n*p\n",
    "P = l ** k / factorial(k) * 2.718 ** (-l)\n",
    "P"
   ]
  },
  {
   "cell_type": "code",
   "execution_count": 5,
   "metadata": {},
   "outputs": [
    {
     "data": {
      "text/plain": [
       "0.2242100142488562"
      ]
     },
     "execution_count": 5,
     "metadata": {},
     "output_type": "execute_result"
    }
   ],
   "source": [
    "def bernuli (n, p, k):\n",
    "  return combinations (n, k) * p ** k * (1- p )**(n-k)\n",
    "n = 2000\n",
    "p = 0.0015\n",
    "k = 3\n",
    "P = bernuli (n, p, k)\n",
    "P"
   ]
  },
  {
   "cell_type": "markdown",
   "metadata": {},
   "source": [
    "### Задача 1 \n",
    "\n",
    "Подбрасывают 4 одинаковые монеты. Какова вероятность, что решка выпадет\n",
    "не более 1 раза\n",
    "\n",
    "Вероятность выпадения решки 0,5 (1/2) и обратная орла тоже 1/2\n",
    "\n",
    "k0 решка не выпадет\n",
    "\n",
    "k1 решка выпадет 1 раз"
   ]
  },
  {
   "cell_type": "code",
   "execution_count": 12,
   "metadata": {},
   "outputs": [
    {
     "data": {
      "text/plain": [
       "0.3125"
      ]
     },
     "execution_count": 12,
     "metadata": {},
     "output_type": "execute_result"
    }
   ],
   "source": [
    "def bernuli (n, p, k):\n",
    "  return combinations (n, k) * p ** k * (1- p )**(n-k)\n",
    "n = 4\n",
    "p = 1/2\n",
    "q = 1/2\n",
    "k0 = 0\n",
    "k1 = 1\n",
    "P0 = bernuli (n, p, k0)\n",
    "P1 = bernuli (n, p, k1)\n",
    "P = P0 + P1\n",
    "P"
   ]
  },
  {
   "cell_type": "markdown",
   "metadata": {},
   "source": [
    "### Задача 2\n",
    "\n",
    "Сколько раз надо подбросить игральный кубик, чтобы наивероятнейшее число\n",
    "выпаданий тройки было 30.\n",
    "\n",
    "p = 1/6 , так как игральный кубик\n",
    "k0 = 3 (выпадение тройки)\n",
    "\n",
    "np - q <= ko <= np + p (Тоже самое np + p - 1 <= ko <= np + p )\n",
    "\n",
    "n*1/6 -5/6 <= 30 <= n*1/6 + 1/6\n",
    "\n",
    "n-5 <= 180 <= n+1\n",
    "\n",
    "179 <= n <= 185\n",
    "\n",
    " "
   ]
  },
  {
   "cell_type": "markdown",
   "metadata": {},
   "source": [
    "### Задача 3\n",
    "\n",
    "Какова вероятность наступления события В в каждом отдельном испытании, если наивероятнейшее число наступления события В в 120 испытаниях составило 32\n",
    "\n",
    "np - q <= ko <= np + p (Тоже самое np + p - 1 <= ko <= np + p )\n",
    "\n",
    "120*p + p - 1 <= 32 <= 120*p + p\n",
    "\n",
    "121*p  - 1 <= 32 <= 121*p\n",
    "\n",
    "32/121 <= p <= 33/121\n",
    "\n",
    "p примерно 27%  "
   ]
  },
  {
   "cell_type": "markdown",
   "metadata": {},
   "source": [
    "### Задача 4\n",
    "\n",
    "Найти вероятность, что среди взятых наугад 5 деталей 2 стандартные, если\n",
    "вероятность детали быть стандартной равна 0.9"
   ]
  },
  {
   "cell_type": "code",
   "execution_count": 13,
   "metadata": {},
   "outputs": [
    {
     "data": {
      "text/plain": [
       "0.008099999999999996"
      ]
     },
     "execution_count": 13,
     "metadata": {},
     "output_type": "execute_result"
    }
   ],
   "source": [
    "def bernuli (n, p, k):\n",
    "  return combinations (n, k) * p ** k * (1- p )**(n-k)\n",
    "n = 5\n",
    "p = 0.9\n",
    "k = 2\n",
    "P = bernuli (n, p, k)\n",
    "P"
   ]
  },
  {
   "cell_type": "markdown",
   "metadata": {},
   "source": [
    "### Задача 5\n",
    "\n",
    "Определить наиболее вероятное число выпадений герба при 25 подбрасываниях монеты\n",
    "\n",
    "np - q <= k0 <= np + p (Тоже самое np + p - 1 <= ko <= np + p )\n",
    "\n",
    "25*0.5 - 0.5 <= k0 <= 25*0.5+0.5\n",
    "\n",
    "12 <= k0 <= 13\n",
    "\n",
    "принимает целые значения: 12 и 13\n"
   ]
  },
  {
   "cell_type": "markdown",
   "metadata": {},
   "source": [
    "### Задача 6\n",
    "\n",
    "Вероятность рождения мальчиков 0.515. Найти наивероятнейшее число девочек из 600\n",
    "новорожденных.\n",
    "\n",
    "np - q <= k0 <= np + p (Тоже самое np + p - 1 <= ko <= np + p )\n",
    "\n",
    "600*0,515+0,515 -1 <= k0 <= 600*0,515+0,515\n",
    "\n",
    "308,515 <= k0 <= 309,515\n",
    "\n",
    "Таким образом 309 мальчиков\n",
    "\n",
    "Девочек 600-309 = 291 девочка\n"
   ]
  }
 ],
 "metadata": {
  "kernelspec": {
   "display_name": "Python 3",
   "language": "python",
   "name": "python3"
  },
  "language_info": {
   "codemirror_mode": {
    "name": "ipython",
    "version": 3
   },
   "file_extension": ".py",
   "mimetype": "text/x-python",
   "name": "python",
   "nbconvert_exporter": "python",
   "pygments_lexer": "ipython3",
   "version": "3.11.3"
  }
 },
 "nbformat": 4,
 "nbformat_minor": 2
}

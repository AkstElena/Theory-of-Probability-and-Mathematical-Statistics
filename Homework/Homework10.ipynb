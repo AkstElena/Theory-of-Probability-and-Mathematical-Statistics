{
 "cells": [
  {
   "cell_type": "code",
   "execution_count": 2,
   "metadata": {},
   "outputs": [],
   "source": [
    "import numpy as np\n",
    "from scipy import stats"
   ]
  },
  {
   "cell_type": "markdown",
   "metadata": {},
   "source": [
    "Провести дисперсионный анализ для определения того, есть ли различия среднего роста среди взрослых футболистов, хоккеистов и штангистов.\n",
    "\n",
    "Даны значения роста в трех группах случайно выбранных спортсменов:\n",
    "\n",
    "Футболисты: 173, 175, 180, 178, 177, 185, 183, 182.\n",
    "\n",
    "Хоккеисты: 177, 179, 180, 188, 177, 172, 171, 184, 180. \n",
    "\n",
    "Штангисты: 172, 173, 169, 177, 166, 180, 178, 177, 172, 166, 170. "
   ]
  },
  {
   "cell_type": "code",
   "execution_count": 3,
   "metadata": {},
   "outputs": [
    {
     "data": {
      "text/plain": [
       "ShapiroResult(statistic=0.9775082468986511, pvalue=0.9495404362678528)"
      ]
     },
     "execution_count": 3,
     "metadata": {},
     "output_type": "execute_result"
    }
   ],
   "source": [
    "football = np.array([173, 175, 180, 178, 177, 185, 183, 182])\n",
    "stats.shapiro(football) #проводим тест Шапиро на нормальность"
   ]
  },
  {
   "cell_type": "code",
   "execution_count": 4,
   "metadata": {},
   "outputs": [
    {
     "data": {
      "text/plain": [
       "ShapiroResult(statistic=0.9579196572303772, pvalue=0.7763139009475708)"
      ]
     },
     "execution_count": 4,
     "metadata": {},
     "output_type": "execute_result"
    }
   ],
   "source": [
    "hockey = np.array([177, 179, 180, 188, 177, 172, 171, 184, 180])\n",
    "stats.shapiro(hockey) #проводим тест Шапиро на нормальность"
   ]
  },
  {
   "cell_type": "code",
   "execution_count": 5,
   "metadata": {},
   "outputs": [
    {
     "data": {
      "text/plain": [
       "ShapiroResult(statistic=0.9386808276176453, pvalue=0.5051165223121643)"
      ]
     },
     "execution_count": 5,
     "metadata": {},
     "output_type": "execute_result"
    }
   ],
   "source": [
    "weightlifter = np.array([172, 173, 169, 177, 166, 180, 178, 177, 172, 166, 170])\n",
    "stats.shapiro(weightlifter ) #проводим тест Шапиро на нормальность"
   ]
  },
  {
   "cell_type": "markdown",
   "metadata": {},
   "source": [
    "Везде pvalue > 5%, значит тест на нормальность пройден. Распределение нормально"
   ]
  },
  {
   "cell_type": "code",
   "execution_count": 6,
   "metadata": {},
   "outputs": [
    {
     "data": {
      "text/plain": [
       "BartlettResult(statistic=0.4640521043406442, pvalue=0.7929254656083131)"
      ]
     },
     "execution_count": 6,
     "metadata": {},
     "output_type": "execute_result"
    }
   ],
   "source": [
    "stats.bartlett(football, hockey, weightlifter)  #проводим тест на однородность дисперсии"
   ]
  },
  {
   "cell_type": "markdown",
   "metadata": {},
   "source": [
    "pvalue=0.7929254656083131 > 5%, т.о. дисперсии однородны "
   ]
  },
  {
   "cell_type": "code",
   "execution_count": 7,
   "metadata": {},
   "outputs": [
    {
     "data": {
      "text/plain": [
       "KruskalResult(statistic=7.897493213863828, pvalue=0.01927885061595347)"
      ]
     },
     "execution_count": 7,
     "metadata": {},
     "output_type": "execute_result"
    }
   ],
   "source": [
    "stats.kruskal(football, hockey, weightlifter) "
   ]
  },
  {
   "cell_type": "code",
   "execution_count": 8,
   "metadata": {},
   "outputs": [
    {
     "data": {
      "text/plain": [
       "F_onewayResult(statistic=5.500053450812596, pvalue=0.010482206918698693)"
      ]
     },
     "execution_count": 8,
     "metadata": {},
     "output_type": "execute_result"
    }
   ],
   "source": [
    "stats.f_oneway(football, hockey, weightlifter) #проводим дисперсионный анализ"
   ]
  },
  {
   "cell_type": "markdown",
   "metadata": {},
   "source": [
    "pvalue и по диспресионному анализу и по Крускалу - Уоллису  < 5%, значит есть статистически значимые отличия, то есть принимаем альтернативную гипотезу. \n",
    "\n",
    "Такимо образом есть различия среднего роста среди взрослых футболистов, хоккеистов и штангистов."
   ]
  },
  {
   "cell_type": "code",
   "execution_count": 9,
   "metadata": {},
   "outputs": [
    {
     "data": {
      "text/plain": [
       "<Axes: >"
      ]
     },
     "execution_count": 9,
     "metadata": {},
     "output_type": "execute_result"
    },
    {
     "data": {
      "image/png": "[encoded data removed]",
      "text/plain": [
       "<Figure size 640x480 with 1 Axes>"
      ]
     },
     "metadata": {},
     "output_type": "display_data"
    }
   ],
   "source": [
    "import seaborn\n",
    "seaborn.boxplot(data=[football, hockey, weightlifter])"
   ]
  }
 ],
 "metadata": {
  "kernelspec": {
   "display_name": "Python 3",
   "language": "python",
   "name": "python3"
  },
  "language_info": {
   "codemirror_mode": {
    "name": "ipython",
    "version": 3
   },
   "file_extension": ".py",
   "mimetype": "text/x-python",
   "name": "python",
   "nbconvert_exporter": "python",
   "pygments_lexer": "ipython3",
   "version": "3.11.3"
  }
 },
 "nbformat": 4,
 "nbformat_minor": 2
}
